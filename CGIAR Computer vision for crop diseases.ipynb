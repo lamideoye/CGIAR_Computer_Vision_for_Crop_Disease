{
 "cells": [
  {
   "cell_type": "code",
   "execution_count": 0,
   "metadata": {
    "_cell_guid": "b1076dfc-b9ad-4769-8c92-a6c4dae69d19",
    "_uuid": "8f2839f25d086af736a60e9eeb907d3b93b6e0e5",
    "colab": {
     "base_uri": "https://localhost:8080/",
     "height": 169
    },
    "colab_type": "code",
    "id": "m2xxwat5Q4Sj",
    "outputId": "7e1e30cf-08f6-4d11-a3db-59bcadca0f47"
   },
   "outputs": [
    {
     "name": "stderr",
     "output_type": "stream",
     "text": [
      "Using TensorFlow backend.\n"
     ]
    },
    {
     "data": {
      "text/html": [
       "<p style=\"color: red;\">\n",
       "The default version of TensorFlow in Colab will soon switch to TensorFlow 2.x.<br>\n",
       "We recommend you <a href=\"https://www.tensorflow.org/guide/migrate\" target=\"_blank\">upgrade</a> now \n",
       "or ensure your notebook will continue to use TensorFlow 1.x via the <code>%tensorflow_version 1.x</code> magic:\n",
       "<a href=\"https://colab.research.google.com/notebooks/tensorflow_version.ipynb\" target=\"_blank\">more info</a>.</p>\n"
      ],
      "text/plain": [
       "<IPython.core.display.HTML object>"
      ]
     },
     "metadata": {
      "tags": []
     },
     "output_type": "display_data"
    },
    {
     "name": "stdout",
     "output_type": "stream",
     "text": [
      "Device mapping:\n",
      "/job:localhost/replica:0/task:0/device:XLA_CPU:0 -> device: XLA_CPU device\n",
      "/job:localhost/replica:0/task:0/device:XLA_GPU:0 -> device: XLA_GPU device\n",
      "/job:localhost/replica:0/task:0/device:GPU:0 -> device: 0, name: Tesla K80, pci bus id: 0000:00:04.0, compute capability: 3.7\n",
      "\n"
     ]
    }
   ],
   "source": [
    "### import all the libraries we will be using. We set seeds for reproducibility \n",
    "\n",
    "import os\n",
    "os.environ['PYTHONHASHSEED'] = '0'\n",
    "\n",
    "import warnings\n",
    "warnings.filterwarnings('always')\n",
    "warnings.filterwarnings('ignore')\n",
    "\n",
    "import math, re, os\n",
    "\n",
    "import numpy as np\n",
    "import pandas as pd\n",
    "import keras\n",
    "from matplotlib import pyplot as plt\n",
    "import tensorflow as tf, tensorflow.keras.backend as K\n",
    "import tensorflow.keras.layers as L\n",
    "from sklearn import metrics\n",
    "from sklearn.model_selection import train_test_split\n",
    "\n",
    "from keras.layers import *\n",
    "from keras import optimizers, regularizers\n",
    "from keras.models import Sequential,Model, load_model\n",
    "from keras.callbacks import ModelCheckpoint, ReduceLROnPlateau, EarlyStopping, LambdaCallback\n",
    "from keras import optimizers, regularizers\n",
    "from classification_models.tfkeras import Classifiers\n",
    "import efficientnet.tfkeras as efn\n",
    "from tta_wrapper import tta_classification\n",
    "\n",
    "img_width = 400\n",
    "img_height = 400\n",
    "IMAGE_SIZE = [img_width, img_height]\n",
    "\n",
    "tf.set_random_seed(234)\n",
    "np.random.seed(234)\n",
    "\n",
    "\n",
    "config = tf.ConfigProto(allow_soft_placement=True, intra_op_parallelism_threads=1, inter_op_parallelism_threads=1)\n",
    "config.gpu_options.allow_growth = True\n",
    "sess = tf.Session(config=tf.ConfigProto(log_device_placement=True))"
   ]
  },
  {
   "cell_type": "markdown",
   "metadata": {
    "colab_type": "text",
    "id": "vhduOplDQ4S1"
   },
   "source": [
    "## Config"
   ]
  },
  {
   "cell_type": "code",
   "execution_count": 0,
   "metadata": {
    "colab": {},
    "colab_type": "code",
    "id": "tTWb9sdvQ4S7"
   },
   "outputs": [],
   "source": [
    "AUTO = tf.data.experimental.AUTOTUNE\n",
    "\n",
    "## Data access. Directory to the data. I moved all the images into a single folder called data. Please do the same and \n",
    "## dir_to_data should point to that location\n",
    "\n",
    "dir_to_data = 'data'\n",
    "\n",
    "# Configuration\n",
    "EPOCHS = 100\n",
    "BATCH_SIZE = 8"
   ]
  },
  {
   "cell_type": "markdown",
   "metadata": {
    "colab_type": "text",
    "id": "mfkl-NufQ4TS"
   },
   "source": [
    "## Load label and paths"
   ]
  },
  {
   "cell_type": "code",
   "execution_count": 0,
   "metadata": {
    "colab": {},
    "colab_type": "code",
    "id": "wHuFOq7FQ4TZ"
   },
   "outputs": [],
   "source": [
    "#load the train, test and submission csv file into a pandas dataframe\n",
    "\n",
    "train = pd.read_csv('train.csv',dtype=str)\n",
    "test = pd.read_csv('test.csv', dtype=str)\n",
    "sub = pd.read_csv('sample_submission.csv')\n",
    "\n",
    "# shuffle the train dataframe\n",
    "train = train.sample(random_state=234,frac=1).reset_index(drop=True)\n",
    "\n",
    "\n",
    "\n",
    "#load the image paths.\n",
    "train_paths = train.image.map(lambda x: (os.path.join(dir_to_data, '{}'.format(x))))\n",
    "test_paths = test.image.map(lambda x: (os.path.join('test/test/', '{}'.format(x))))\n",
    "\n",
    "#make the labels categorical\n",
    "labels = np.array(train['label'].astype('category').cat.codes)\n",
    "labels = keras.utils.to_categorical(labels)\n",
    "train_labels = labels\n",
    "\n",
    "#divide the dataset into a train and validation set. \n",
    "train_paths, valid_paths, train_labels, valid_labels = train_test_split(\n",
    "    train_paths, train_labels, test_size=0.1, random_state=46)"
   ]
  },
  {
   "cell_type": "markdown",
   "metadata": {
    "colab_type": "text",
    "id": "HCBBp4SLQ4T3"
   },
   "source": [
    "## Create Dataset objects\n",
    "\n",
    "A `tf.data.Dataset` object is needed in order to run the model using tensorflow"
   ]
  },
  {
   "cell_type": "code",
   "execution_count": 0,
   "metadata": {
    "_cell_guid": "79c7e3d0-c299-4dcb-8224-4455121ee9b0",
    "_uuid": "d629ff2d2480ee46fbb7e2d37f6b5fab8052498a",
    "colab": {},
    "colab_type": "code",
    "id": "YY18q6mYQ4T8"
   },
   "outputs": [],
   "source": [
    "def decode_image(filename, label=None, image_size=(img_width,img_height)):\n",
    "    bits = tf.io.read_file(filename)\n",
    "    image = tf.image.decode_jpeg(bits, channels=3)\n",
    "    image = tf.image.convert_image_dtype(image, tf.float32)\n",
    "    image = tf.image.resize(image, image_size)\n",
    "    \n",
    "    if label is None:\n",
    "        return image\n",
    "    else:\n",
    "        return image, label"
   ]
  },
  {
   "cell_type": "markdown",
   "metadata": {},
   "source": [
    "### Augmentation"
   ]
  },
  {
   "cell_type": "code",
   "execution_count": 0,
   "metadata": {
    "colab": {},
    "colab_type": "code",
    "id": "3DTIQOHRI9UM"
   },
   "outputs": [],
   "source": [
    "def get_mat(rotation, shear, height_zoom, width_zoom, height_shift, width_shift):\n",
    "    # returns 3x3 transformmatrix which transforms indicies\n",
    "        \n",
    "    # CONVERT DEGREES TO RADIANS\n",
    "    rotation = math.pi * rotation / 180.\n",
    "    shear = math.pi * shear / 180.\n",
    "    \n",
    "    # ROTATION MATRIX\n",
    "    c1 = tf.math.cos(rotation)\n",
    "    s1 = tf.math.sin(rotation)\n",
    "    one = tf.constant([1],dtype='float32')\n",
    "    zero = tf.constant([0],dtype='float32')\n",
    "    rotation_matrix = tf.reshape( tf.concat([c1,s1,zero, -s1,c1,zero, zero,zero,one],axis=0),[3,3] )\n",
    "        \n",
    "    # SHEAR MATRIX\n",
    "    c2 = tf.math.cos(shear)\n",
    "    s2 = tf.math.sin(shear)\n",
    "    shear_matrix = tf.reshape( tf.concat([one,s2,zero, zero,c2,zero, zero,zero,one],axis=0),[3,3] )    \n",
    "    \n",
    "    # ZOOM MATRIX\n",
    "    zoom_matrix = tf.reshape( tf.concat([one/height_zoom,zero,zero, zero,one/width_zoom,zero, zero,zero,one],axis=0),[3,3] )\n",
    "    \n",
    "    # SHIFT MATRIX\n",
    "    shift_matrix = tf.reshape( tf.concat([one,zero,height_shift, zero,one,width_shift, zero,zero,one],axis=0),[3,3] )\n",
    "    \n",
    "    return K.dot(K.dot(rotation_matrix, shear_matrix), K.dot(zoom_matrix, shift_matrix))"
   ]
  },
  {
   "cell_type": "code",
   "execution_count": 0,
   "metadata": {
    "colab": {},
    "colab_type": "code",
    "id": "48WL6YSkI-Xz"
   },
   "outputs": [],
   "source": [
    "def transform(image,label):\n",
    "    # input image - is one image of size [dim,dim,3] not a batch of [b,dim,dim,3]\n",
    "    # output - image randomly rotated, sheared, zoomed, and shifted\n",
    "    DIM = IMAGE_SIZE[0]\n",
    "    XDIM = DIM%2 #fix for size 331\n",
    "    \n",
    "    rot = 15. * tf.random.normal([1],dtype='float32')\n",
    "    shr = 5. * tf.random.normal([1],dtype='float32') \n",
    "    h_zoom = 1.0 + tf.random.normal([1],dtype='float32')/10.\n",
    "    w_zoom = 1.0 + tf.random.normal([1],dtype='float32')/10.\n",
    "    h_shift = 16. * tf.random.normal([1],dtype='float32') \n",
    "    w_shift = 16. * tf.random.normal([1],dtype='float32') \n",
    "  \n",
    "    # GET TRANSFORMATION MATRIX\n",
    "    m = get_mat(rot,shr,h_zoom,w_zoom,h_shift,w_shift) \n",
    "\n",
    "    # LIST DESTINATION PIXEL INDICES\n",
    "    x = tf.repeat( tf.range(DIM//2,-DIM//2,-1), DIM )\n",
    "    y = tf.tile( tf.range(-DIM//2,DIM//2),[DIM] )\n",
    "    z = tf.ones([DIM*DIM],dtype='int32')\n",
    "    idx = tf.stack( [x,y,z] )\n",
    "    \n",
    "    # ROTATE DESTINATION PIXELS ONTO ORIGIN PIXELS\n",
    "    idx2 = K.dot(m,tf.cast(idx,dtype='float32'))\n",
    "    idx2 = K.cast(idx2,dtype='int32')\n",
    "    idx2 = K.clip(idx2,-DIM//2+XDIM+1,DIM//2)\n",
    "    \n",
    "    # FIND ORIGIN PIXEL VALUES           \n",
    "    idx3 = tf.stack( [DIM//2-idx2[0,], DIM//2-1+idx2[1,]] )\n",
    "    d = tf.gather_nd(image,tf.transpose(idx3))\n",
    "        \n",
    "    return tf.reshape(d,[DIM,DIM,3]),label"
   ]
  },
  {
   "cell_type": "markdown",
   "metadata": {},
   "source": [
    "#### Create a train, validation and test dataset using tf.dataset . We map the train dataset to the decode_image function and apply augmentation using the transform function. No augmentation on the validation and test dataset."
   ]
  },
  {
   "cell_type": "code",
   "execution_count": 11,
   "metadata": {
    "colab": {
     "base_uri": "https://localhost:8080/",
     "height": 90
    },
    "colab_type": "code",
    "id": "h8gaYd-cQ4UI",
    "outputId": "c9c7a2e8-e19a-4d71-99c2-f5066849de4a"
   },
   "outputs": [
    {
     "name": "stdout",
     "output_type": "stream",
     "text": [
      "WARNING:tensorflow:From /usr/local/lib/python3.6/dist-packages/tensorflow_core/python/data/util/random_seed.py:58: where (from tensorflow.python.ops.array_ops) is deprecated and will be removed in a future version.\n",
      "Instructions for updating:\n",
      "Use tf.where in 2.0, which has the same broadcast rule as np.where\n"
     ]
    }
   ],
   "source": [
    "train_dataset = (\n",
    "    tf.data.Dataset\n",
    "    .from_tensor_slices((train_paths, train_labels))\n",
    "    .map(decode_image, num_parallel_calls=AUTO)\n",
    "    .map(transform, num_parallel_calls=AUTO)\n",
    "    .repeat()\n",
    "    .shuffle(512)\n",
    "    .batch(BATCH_SIZE)\n",
    "    .prefetch(AUTO)\n",
    ")\n",
    "\n",
    "valid_dataset = (\n",
    "    tf.data.Dataset\n",
    "    .from_tensor_slices((valid_paths, valid_labels))\n",
    "    .map(decode_image, num_parallel_calls=AUTO)\n",
    "    .batch(BATCH_SIZE)\n",
    "    .cache()\n",
    "    .prefetch(AUTO)\n",
    ")\n",
    "\n",
    "test_dataset = (\n",
    "    tf.data.Dataset\n",
    "    .from_tensor_slices(test_paths)\n",
    "    .map(decode_image, num_parallel_calls=AUTO)\n",
    "    .batch(BATCH_SIZE)\n",
    ")"
   ]
  },
  {
   "cell_type": "markdown",
   "metadata": {
    "colab_type": "text",
    "id": "D4_poHncQ4UY"
   },
   "source": [
    "## Modelling \n",
    "##### EfficientNet B4 was used as the base_model and was initiated with <a href ='http://arxiv.org/abs/1911.04252'>noisy_student</a> weight\n",
    "##### Optimizer was Adam and the loss function was categorical cross_entropy "
   ]
  },
  {
   "cell_type": "code",
   "execution_count": 13,
   "metadata": {
    "colab": {
     "base_uri": "https://localhost:8080/",
     "height": 424
    },
    "colab_type": "code",
    "id": "hsgpo_eYQ4Us",
    "outputId": "1d944628-78f4-496c-9c0e-78596ac78393"
   },
   "outputs": [
    {
     "name": "stdout",
     "output_type": "stream",
     "text": [
      "WARNING:tensorflow:From /usr/local/lib/python3.6/dist-packages/tensorflow_core/python/util/deprecation.py:507: calling VarianceScaling.__init__ (from tensorflow.python.ops.init_ops) with distribution=normal is deprecated and will be removed in a future version.\n",
      "Instructions for updating:\n",
      "`normal` is a deprecated alias for `truncated_normal`\n",
      "WARNING:tensorflow:From /usr/local/lib/python3.6/dist-packages/tensorflow_core/python/ops/resource_variable_ops.py:1630: calling BaseResourceVariable.__init__ (from tensorflow.python.ops.resource_variable_ops) with constraint is deprecated and will be removed in a future version.\n",
      "Instructions for updating:\n",
      "If using Keras pass *_constraint arguments to layers.\n",
      "Downloading data from https://github.com/qubvel/efficientnet/releases/download/v0.0.1/efficientnet-b4_noisy-student_notop.h5\n",
      "71680000/71678424 [==============================] - 3s 0us/step\n",
      "Model: \"sequential\"\n",
      "_________________________________________________________________\n",
      "Layer (type)                 Output Shape              Param #   \n",
      "=================================================================\n",
      "efficientnet-b4 (Model)      (None, 13, 13, 1792)      17673816  \n",
      "_________________________________________________________________\n",
      "global_average_pooling2d (Gl (None, 1792)              0         \n",
      "_________________________________________________________________\n",
      "dense (Dense)                (None, 3)                 5379      \n",
      "=================================================================\n",
      "Total params: 17,679,195\n",
      "Trainable params: 17,553,995\n",
      "Non-trainable params: 125,200\n",
      "_________________________________________________________________\n"
     ]
    }
   ],
   "source": [
    "model = tf.keras.Sequential([\n",
    "        efn.EfficientNetB4(\n",
    "        input_shape=(img_width, img_width, 3),\n",
    "        weights='noisy-student',\n",
    "        include_top=False),\n",
    "        L.GlobalAveragePooling2D(),\n",
    "        L.Dense(train_labels.shape[1], activation='softmax')\n",
    "    ])\n",
    "        \n",
    "model.compile(optimizer=tf.keras.optimizers.Adam(lr=3e-3, epsilon=0.1,decay=1.15e-5),loss = 'categorical_crossentropy', metrics=['acc'])\n",
    "model.summary()"
   ]
  },
  {
   "cell_type": "markdown",
   "metadata": {
    "colab_type": "text",
    "id": "SNGf35PpQ4U1"
   },
   "source": [
    "### Start training\n",
    "##### The best model (lowest loss) was saved and training was terminated if there is no reduction in the loss function after 10 epochs."
   ]
  },
  {
   "cell_type": "code",
   "execution_count": 14,
   "metadata": {
    "_kg_hide-output": true,
    "colab": {
     "base_uri": "https://localhost:8080/",
     "height": 826
    },
    "colab_type": "code",
    "id": "tse-CtBAQ4U4",
    "outputId": "6f317de2-b079-49a6-a429-f54e8a20af8f"
   },
   "outputs": [
    {
     "name": "stdout",
     "output_type": "stream",
     "text": [
      "Train on 98 steps, validate on 11 steps\n",
      "Epoch 1/100\n",
      "98/98 [==============================] - 403s 4s/step - loss: 1.0512 - acc: 0.4171 - val_loss: 1.0567 - val_acc: 0.3864\n",
      "Epoch 2/100\n",
      "98/98 [==============================] - 169s 2s/step - loss: 0.8802 - acc: 0.5829 - val_loss: 0.9477 - val_acc: 0.5455\n",
      "Epoch 3/100\n",
      "98/98 [==============================] - 166s 2s/step - loss: 0.7465 - acc: 0.6658 - val_loss: 0.7423 - val_acc: 0.6477\n",
      "Epoch 4/100\n",
      "98/98 [==============================] - 169s 2s/step - loss: 0.6649 - acc: 0.7245 - val_loss: 0.5904 - val_acc: 0.7614\n",
      "Epoch 5/100\n",
      "98/98 [==============================] - 167s 2s/step - loss: 0.4670 - acc: 0.8227 - val_loss: 0.4163 - val_acc: 0.8295\n",
      "Epoch 6/100\n",
      "98/98 [==============================] - 170s 2s/step - loss: 0.4762 - acc: 0.8189 - val_loss: 0.3947 - val_acc: 0.8068\n",
      "Epoch 7/100\n",
      "98/98 [==============================] - 166s 2s/step - loss: 0.4246 - acc: 0.8316 - val_loss: 0.3000 - val_acc: 0.8523\n",
      "Epoch 8/100\n",
      "98/98 [==============================] - 168s 2s/step - loss: 0.3695 - acc: 0.8495 - val_loss: 0.2162 - val_acc: 0.9318\n",
      "Epoch 9/100\n",
      "98/98 [==============================] - 167s 2s/step - loss: 0.3144 - acc: 0.8814 - val_loss: 0.2105 - val_acc: 0.9318\n",
      "Epoch 10/100\n",
      "98/98 [==============================] - 170s 2s/step - loss: 0.3237 - acc: 0.8827 - val_loss: 0.1925 - val_acc: 0.9205\n",
      "Epoch 11/100\n",
      "98/98 [==============================] - 164s 2s/step - loss: 0.3109 - acc: 0.8839 - val_loss: 0.2724 - val_acc: 0.8977\n",
      "Epoch 12/100\n",
      "98/98 [==============================] - 164s 2s/step - loss: 0.2288 - acc: 0.9133 - val_loss: 0.2672 - val_acc: 0.8864\n",
      "Epoch 13/100\n",
      "98/98 [==============================] - 161s 2s/step - loss: 0.2596 - acc: 0.9094 - val_loss: 0.2700 - val_acc: 0.8636\n",
      "Epoch 14/100\n",
      "97/98 [============================>.] - ETA: 1s - loss: 0.2239 - acc: 0.9227\n",
      "Epoch 00014: ReduceLROnPlateau reducing learning rate to 0.00030000000260770325.\n",
      "98/98 [==============================] - 163s 2s/step - loss: 0.2220 - acc: 0.9235 - val_loss: 0.2608 - val_acc: 0.8750\n",
      "Epoch 15/100\n",
      "98/98 [==============================] - 164s 2s/step - loss: 0.2127 - acc: 0.9235 - val_loss: 0.2477 - val_acc: 0.8864\n",
      "Epoch 16/100\n",
      "98/98 [==============================] - 163s 2s/step - loss: 0.1719 - acc: 0.9349 - val_loss: 0.2271 - val_acc: 0.8977\n",
      "Epoch 17/100\n",
      "98/98 [==============================] - 163s 2s/step - loss: 0.1797 - acc: 0.9260 - val_loss: 0.2257 - val_acc: 0.8977\n",
      "Epoch 18/100\n",
      "97/98 [============================>.] - ETA: 1s - loss: 0.1785 - acc: 0.9291\n",
      "Epoch 00018: ReduceLROnPlateau reducing learning rate to 3.000000142492354e-05.\n",
      "98/98 [==============================] - 164s 2s/step - loss: 0.1772 - acc: 0.9298 - val_loss: 0.2196 - val_acc: 0.8977\n",
      "Epoch 19/100\n",
      "98/98 [==============================] - 165s 2s/step - loss: 0.1577 - acc: 0.9490 - val_loss: 0.2209 - val_acc: 0.8977\n",
      "Epoch 20/100\n",
      "98/98 [==============================] - 162s 2s/step - loss: 0.2124 - acc: 0.9209 - val_loss: 0.2180 - val_acc: 0.9091\n",
      "Epoch 00020: early stopping\n"
     ]
    }
   ],
   "source": [
    "STEPS_PER_EPOCH = train_labels.shape[0] // BATCH_SIZE\n",
    "valid_step  = valid_labels.shape[0] // BATCH_SIZE\n",
    "filepath = 'EfficientNetB4.hdf5'\n",
    "checkpoint = tf.keras.callbacks.ModelCheckpoint(filepath, monitor='val_loss', save_best_only=True, mode='min')\n",
    "ronp = tf.keras.callbacks.ReduceLROnPlateau(monitor='val_loss', factor=0.1, patience=4, verbose=1, mode='auto')\n",
    "Es = tf.keras.callbacks.EarlyStopping(monitor='val_loss', patience=10, verbose=1, mode='auto')\n",
    "callbacks = [checkpoint,Es,ronp]\n",
    "\n",
    "\n",
    "history = model.fit(\n",
    "    train_dataset, \n",
    "    epochs=EPOCHS, \n",
    "    callbacks=callbacks,\n",
    "    steps_per_epoch=STEPS_PER_EPOCH,\n",
    "    validation_data=valid_dataset,\n",
    "    validation_steps=valid_step)"
   ]
  },
  {
   "cell_type": "markdown",
   "metadata": {
    "colab_type": "text",
    "id": "CMqs4pCxQ4VE"
   },
   "source": [
    "## Evaluation"
   ]
  },
  {
   "cell_type": "code",
   "execution_count": 0,
   "metadata": {
    "_kg_hide-input": true,
    "colab": {},
    "colab_type": "code",
    "id": "8-Oat3PlQ4VM"
   },
   "outputs": [],
   "source": [
    "def display_training_curves(training, validation, title, subplot):\n",
    "    \"\"\"\n",
    "    Source: https://www.kaggle.com/mgornergoogle/getting-started-with-100-flowers-on-tpu\n",
    "    \"\"\"\n",
    "    if subplot%10==1: # set up the subplots on the first call\n",
    "        plt.subplots(figsize=(10,10), facecolor='#F0F0F0')\n",
    "        plt.tight_layout()\n",
    "    ax = plt.subplot(subplot)\n",
    "    ax.set_facecolor('#F8F8F8')\n",
    "    ax.plot(training)\n",
    "    ax.plot(validation)\n",
    "    ax.set_title('model '+ title)\n",
    "    ax.set_ylabel(title)\n",
    "    #ax.set_ylim(0.28,1.05)\n",
    "    ax.set_xlabel('epoch')\n",
    "    ax.legend(['train', 'valid.'])"
   ]
  },
  {
   "cell_type": "code",
   "execution_count": 16,
   "metadata": {
    "_kg_hide-input": true,
    "colab": {
     "base_uri": "https://localhost:8080/",
     "height": 755
    },
    "colab_type": "code",
    "id": "xdpGQsOFQ4VZ",
    "outputId": "5164b9a4-ab14-418b-c9aa-8b10e2d9c237"
   },
   "outputs": [
    {
     "data": {
      "image/png": "[encoded data removed]",
      "text/plain": [
       "<Figure size 720x720 with 2 Axes>"
      ]
     },
     "metadata": {
      "tags": []
     },
     "output_type": "display_data"
    }
   ],
   "source": [
    "display_training_curves(\n",
    "    history.history['loss'], \n",
    "    history.history['val_loss'], \n",
    "    'loss', 211)\n",
    "display_training_curves(\n",
    "    history.history['acc'], \n",
    "    history.history['val_acc'], \n",
    "    'accuracy', 212)"
   ]
  },
  {
   "cell_type": "markdown",
   "metadata": {
    "colab_type": "text",
    "id": "Z8VaRHq8Q4Vl"
   },
   "source": [
    "## Submission"
   ]
  },
  {
   "cell_type": "markdown",
   "metadata": {},
   "source": [
    "#### We create the model without any weight. We load the saved weight into the model"
   ]
  },
  {
   "cell_type": "code",
   "execution_count": 0,
   "metadata": {
    "colab": {},
    "colab_type": "code",
    "id": "p2Qr5L4HQ4Vn"
   },
   "outputs": [],
   "source": [
    "model = tf.keras.Sequential([\n",
    "        efn.EfficientNetB4(\n",
    "        input_shape=(img_width, img_height, 3),\n",
    "        weights=None,\n",
    "        include_top=False),\n",
    "        L.GlobalAveragePooling2D(),\n",
    "        L.Dense(3, activation='softmax')])\n",
    "\n",
    "model.load_weights(filepath)"
   ]
  },
  {
   "cell_type": "code",
   "execution_count": 0,
   "metadata": {
    "colab": {},
    "colab_type": "code",
    "id": "XeH7dA4PQ4Vv"
   },
   "outputs": [],
   "source": [
    "### we get the ID of the images using the testpath and save it into a list. \n",
    "\n",
    "ID = []\n",
    "for f in test_paths:\n",
    "    f = f.rsplit('.')[0]\n",
    "    f = f.rsplit('/')[-1]\n",
    "    ID.append(f)"
   ]
  },
  {
   "cell_type": "code",
   "execution_count": 19,
   "metadata": {
    "colab": {
     "base_uri": "https://localhost:8080/",
     "height": 34
    },
    "colab_type": "code",
    "id": "fSXpaAgSQ4V5",
    "outputId": "1a8bb253-3730-4476-d8b7-eff5bbad57e2"
   },
   "outputs": [
    {
     "name": "stdout",
     "output_type": "stream",
     "text": [
      "77/77 [==============================] - 179s 2s/step\n"
     ]
    }
   ],
   "source": [
    "#predict with our model\n",
    "\n",
    "predictions = model.predict(test_dataset, verbose=1)"
   ]
  },
  {
   "cell_type": "code",
   "execution_count": 20,
   "metadata": {
    "colab": {
     "base_uri": "https://localhost:8080/",
     "height": 195
    },
    "colab_type": "code",
    "id": "Q3gT61qAQ4WC",
    "outputId": "5fc37839-a5fa-42d9-d986-7df5807e72a4"
   },
   "outputs": [
    {
     "data": {
      "text/html": [
       "<div>\n",
       "<style scoped>\n",
       "    .dataframe tbody tr th:only-of-type {\n",
       "        vertical-align: middle;\n",
       "    }\n",
       "\n",
       "    .dataframe tbody tr th {\n",
       "        vertical-align: top;\n",
       "    }\n",
       "\n",
       "    .dataframe thead th {\n",
       "        text-align: right;\n",
       "    }\n",
       "</style>\n",
       "<table border=\"1\" class=\"dataframe\">\n",
       "  <thead>\n",
       "    <tr style=\"text-align: right;\">\n",
       "      <th></th>\n",
       "      <th>ID</th>\n",
       "      <th>leaf_rust</th>\n",
       "      <th>stem_rust</th>\n",
       "      <th>healthy_wheat</th>\n",
       "    </tr>\n",
       "  </thead>\n",
       "  <tbody>\n",
       "    <tr>\n",
       "      <th>0</th>\n",
       "      <td>WP4QZT</td>\n",
       "      <td>0.037212</td>\n",
       "      <td>0.956266</td>\n",
       "      <td>0.006522</td>\n",
       "    </tr>\n",
       "    <tr>\n",
       "      <th>1</th>\n",
       "      <td>BN5L96</td>\n",
       "      <td>0.012092</td>\n",
       "      <td>0.983677</td>\n",
       "      <td>0.004230</td>\n",
       "    </tr>\n",
       "    <tr>\n",
       "      <th>2</th>\n",
       "      <td>UC43IC</td>\n",
       "      <td>0.101518</td>\n",
       "      <td>0.897916</td>\n",
       "      <td>0.000567</td>\n",
       "    </tr>\n",
       "    <tr>\n",
       "      <th>3</th>\n",
       "      <td>AD54KD</td>\n",
       "      <td>0.272729</td>\n",
       "      <td>0.709935</td>\n",
       "      <td>0.017336</td>\n",
       "    </tr>\n",
       "    <tr>\n",
       "      <th>4</th>\n",
       "      <td>ROPN18</td>\n",
       "      <td>0.326420</td>\n",
       "      <td>0.646204</td>\n",
       "      <td>0.027376</td>\n",
       "    </tr>\n",
       "  </tbody>\n",
       "</table>\n",
       "</div>"
      ],
      "text/plain": [
       "       ID  leaf_rust  stem_rust  healthy_wheat\n",
       "0  WP4QZT   0.037212   0.956266       0.006522\n",
       "1  BN5L96   0.012092   0.983677       0.004230\n",
       "2  UC43IC   0.101518   0.897916       0.000567\n",
       "3  AD54KD   0.272729   0.709935       0.017336\n",
       "4  ROPN18   0.326420   0.646204       0.027376"
      ]
     },
     "execution_count": 20,
     "metadata": {
      "tags": []
     },
     "output_type": "execute_result"
    }
   ],
   "source": [
    "##save our prections into a dataframe and save as a csv\n",
    "\n",
    "col = ['healthy_wheat','leaf_rust','stem_rust']\n",
    "sub[col] = predictions\n",
    "sub['ID'] = ID\n",
    "sub.to_csv(\"EfficientNetB4.csv\", index=False)\n",
    "sub.head()"
   ]
  }
 ],
 "metadata": {
  "accelerator": "GPU",
  "colab": {
   "name": "tensorflow.ipynb",
   "provenance": []
  },
  "kernelspec": {
   "display_name": "Python 3 (ipykernel)",
   "language": "python",
   "name": "python3"
  },
  "language_info": {
   "codemirror_mode": {
    "name": "ipython",
    "version": 3
   },
   "file_extension": ".py",
   "mimetype": "text/x-python",
   "name": "python",
   "nbconvert_exporter": "python",
   "pygments_lexer": "ipython3",
   "version": "3.11.3"
  }
 },
 "nbformat": 4,
 "nbformat_minor": 1
}
